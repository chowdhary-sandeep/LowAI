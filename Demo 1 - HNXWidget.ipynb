{
 "cells": [
  {
   "cell_type": "markdown",
   "metadata": {
    "collapsed": false,
    "jupyter": {
     "outputs_hidden": false
    }
   },
   "source": [
    "# HyperNetX Widgets\n",
    "\n",
    "Unlike the tutorials, this is an interactive demo to get you acquainted with the constructor options and how to use the widget. **Hover over the nodes and edges each time you run the widget to see how properties enhance the visual information.**"
   ]
  },
  {
   "cell_type": "code",
   "execution_count": 1,
   "metadata": {
    "collapsed": false,
    "jupyter": {
     "outputs_hidden": false
    }
   },
   "outputs": [],
   "source": [
    "import hypernetx as hnx\n",
    "from hypernetx.utils.toys.lesmis import LesMis\n",
    "from hnxwidget import HypernetxWidget\n",
    "\n",
    "# import shutup\n",
    "# shutup.mute_warnings()"
   ]
  },
  {
   "cell_type": "code",
   "execution_count": 2,
   "metadata": {},
   "outputs": [
    {
     "name": "stderr",
     "output_type": "stream",
     "text": [
      "C:\\Users\\Chowdhary\\AppData\\Roaming\\jupyterlab-desktop\\jlab_server\\lib\\site-packages\\hypernetx\\classes\\entityset.py:150: DeprecationWarning: misc_props_col and misc_cell_props_col will be deprecated; all public references to these arguments will be removed in a future release.\n",
      "  warnings.warn(\n",
      "C:\\Users\\Chowdhary\\AppData\\Roaming\\jupyterlab-desktop\\jlab_server\\lib\\site-packages\\hypernetx\\classes\\hypergraph.py:563: FutureWarning: This method or function will be deprecated in a future release. Public references to this method or function will be removed from the Hypergraph API in a future release.\n",
      "  self._nodes = self.E.restrict_to_levels([1])\n",
      "C:\\Users\\Chowdhary\\AppData\\Roaming\\jupyterlab-desktop\\jlab_server\\lib\\site-packages\\hypernetx\\classes\\entityset.py:150: DeprecationWarning: misc_props_col and misc_cell_props_col will be deprecated; all public references to these arguments will be removed in a future release.\n",
      "  warnings.warn(\n",
      "C:\\Users\\Chowdhary\\AppData\\Roaming\\jupyterlab-desktop\\jlab_server\\lib\\site-packages\\hypernetx\\classes\\hypergraph.py:563: FutureWarning: This method or function will be deprecated in a future release. Public references to this method or function will be removed from the Hypergraph API in a future release.\n",
      "  self._nodes = self.E.restrict_to_levels([1])\n",
      "C:\\Users\\Chowdhary\\AppData\\Roaming\\jupyterlab-desktop\\jlab_server\\lib\\site-packages\\hypernetx\\classes\\entityset.py:150: DeprecationWarning: misc_props_col and misc_cell_props_col will be deprecated; all public references to these arguments will be removed in a future release.\n",
      "  warnings.warn(\n",
      "C:\\Users\\Chowdhary\\AppData\\Roaming\\jupyterlab-desktop\\jlab_server\\lib\\site-packages\\hypernetx\\classes\\hypergraph.py:563: FutureWarning: This method or function will be deprecated in a future release. Public references to this method or function will be removed from the Hypergraph API in a future release.\n",
      "  self._nodes = self.E.restrict_to_levels([1])\n",
      "C:\\Users\\Chowdhary\\AppData\\Roaming\\jupyterlab-desktop\\jlab_server\\lib\\site-packages\\hypernetx\\classes\\entityset.py:150: DeprecationWarning: misc_props_col and misc_cell_props_col will be deprecated; all public references to these arguments will be removed in a future release.\n",
      "  warnings.warn(\n",
      "C:\\Users\\Chowdhary\\AppData\\Roaming\\jupyterlab-desktop\\jlab_server\\lib\\site-packages\\hypernetx\\classes\\hypergraph.py:563: FutureWarning: This method or function will be deprecated in a future release. Public references to this method or function will be removed from the Hypergraph API in a future release.\n",
      "  self._nodes = self.E.restrict_to_levels([1])\n",
      "C:\\Users\\Chowdhary\\AppData\\Roaming\\jupyterlab-desktop\\jlab_server\\lib\\site-packages\\hypernetx\\classes\\entityset.py:150: DeprecationWarning: misc_props_col and misc_cell_props_col will be deprecated; all public references to these arguments will be removed in a future release.\n",
      "  warnings.warn(\n",
      "C:\\Users\\Chowdhary\\AppData\\Roaming\\jupyterlab-desktop\\jlab_server\\lib\\site-packages\\hypernetx\\classes\\hypergraph.py:563: FutureWarning: This method or function will be deprecated in a future release. Public references to this method or function will be removed from the Hypergraph API in a future release.\n",
      "  self._nodes = self.E.restrict_to_levels([1])\n",
      "C:\\Users\\Chowdhary\\AppData\\Roaming\\jupyterlab-desktop\\jlab_server\\lib\\site-packages\\hypernetx\\classes\\entityset.py:150: DeprecationWarning: misc_props_col and misc_cell_props_col will be deprecated; all public references to these arguments will be removed in a future release.\n",
      "  warnings.warn(\n",
      "C:\\Users\\Chowdhary\\AppData\\Roaming\\jupyterlab-desktop\\jlab_server\\lib\\site-packages\\hypernetx\\classes\\hypergraph.py:563: FutureWarning: This method or function will be deprecated in a future release. Public references to this method or function will be removed from the Hypergraph API in a future release.\n",
      "  self._nodes = self.E.restrict_to_levels([1])\n",
      "C:\\Users\\Chowdhary\\AppData\\Roaming\\jupyterlab-desktop\\jlab_server\\lib\\site-packages\\hypernetx\\classes\\entityset.py:150: DeprecationWarning: misc_props_col and misc_cell_props_col will be deprecated; all public references to these arguments will be removed in a future release.\n",
      "  warnings.warn(\n",
      "C:\\Users\\Chowdhary\\AppData\\Roaming\\jupyterlab-desktop\\jlab_server\\lib\\site-packages\\hypernetx\\classes\\hypergraph.py:563: FutureWarning: This method or function will be deprecated in a future release. Public references to this method or function will be removed from the Hypergraph API in a future release.\n",
      "  self._nodes = self.E.restrict_to_levels([1])\n",
      "C:\\Users\\Chowdhary\\AppData\\Roaming\\jupyterlab-desktop\\jlab_server\\lib\\site-packages\\hypernetx\\classes\\entityset.py:150: DeprecationWarning: misc_props_col and misc_cell_props_col will be deprecated; all public references to these arguments will be removed in a future release.\n",
      "  warnings.warn(\n",
      "C:\\Users\\Chowdhary\\AppData\\Roaming\\jupyterlab-desktop\\jlab_server\\lib\\site-packages\\hypernetx\\classes\\hypergraph.py:563: FutureWarning: This method or function will be deprecated in a future release. Public references to this method or function will be removed from the Hypergraph API in a future release.\n",
      "  self._nodes = self.E.restrict_to_levels([1])\n",
      "C:\\Users\\Chowdhary\\AppData\\Roaming\\jupyterlab-desktop\\jlab_server\\lib\\site-packages\\hypernetx\\classes\\entityset.py:150: DeprecationWarning: misc_props_col and misc_cell_props_col will be deprecated; all public references to these arguments will be removed in a future release.\n",
      "  warnings.warn(\n",
      "C:\\Users\\Chowdhary\\AppData\\Roaming\\jupyterlab-desktop\\jlab_server\\lib\\site-packages\\hypernetx\\classes\\hypergraph.py:563: FutureWarning: This method or function will be deprecated in a future release. Public references to this method or function will be removed from the Hypergraph API in a future release.\n",
      "  self._nodes = self.E.restrict_to_levels([1])\n",
      "C:\\Users\\Chowdhary\\AppData\\Roaming\\jupyterlab-desktop\\jlab_server\\lib\\site-packages\\hypernetx\\classes\\entityset.py:150: DeprecationWarning: misc_props_col and misc_cell_props_col will be deprecated; all public references to these arguments will be removed in a future release.\n",
      "  warnings.warn(\n",
      "C:\\Users\\Chowdhary\\AppData\\Roaming\\jupyterlab-desktop\\jlab_server\\lib\\site-packages\\hypernetx\\classes\\hypergraph.py:563: FutureWarning: This method or function will be deprecated in a future release. Public references to this method or function will be removed from the Hypergraph API in a future release.\n",
      "  self._nodes = self.E.restrict_to_levels([1])\n",
      "C:\\Users\\Chowdhary\\AppData\\Roaming\\jupyterlab-desktop\\jlab_server\\lib\\site-packages\\hypernetx\\classes\\entityset.py:150: DeprecationWarning: misc_props_col and misc_cell_props_col will be deprecated; all public references to these arguments will be removed in a future release.\n",
      "  warnings.warn(\n",
      "C:\\Users\\Chowdhary\\AppData\\Roaming\\jupyterlab-desktop\\jlab_server\\lib\\site-packages\\hypernetx\\classes\\hypergraph.py:563: FutureWarning: This method or function will be deprecated in a future release. Public references to this method or function will be removed from the Hypergraph API in a future release.\n",
      "  self._nodes = self.E.restrict_to_levels([1])\n",
      "C:\\Users\\Chowdhary\\AppData\\Roaming\\jupyterlab-desktop\\jlab_server\\lib\\site-packages\\hypernetx\\classes\\entityset.py:150: DeprecationWarning: misc_props_col and misc_cell_props_col will be deprecated; all public references to these arguments will be removed in a future release.\n",
      "  warnings.warn(\n",
      "C:\\Users\\Chowdhary\\AppData\\Roaming\\jupyterlab-desktop\\jlab_server\\lib\\site-packages\\hypernetx\\classes\\hypergraph.py:563: FutureWarning: This method or function will be deprecated in a future release. Public references to this method or function will be removed from the Hypergraph API in a future release.\n",
      "  self._nodes = self.E.restrict_to_levels([1])\n",
      "C:\\Users\\Chowdhary\\AppData\\Roaming\\jupyterlab-desktop\\jlab_server\\lib\\site-packages\\hypernetx\\classes\\entityset.py:150: DeprecationWarning: misc_props_col and misc_cell_props_col will be deprecated; all public references to these arguments will be removed in a future release.\n",
      "  warnings.warn(\n",
      "C:\\Users\\Chowdhary\\AppData\\Roaming\\jupyterlab-desktop\\jlab_server\\lib\\site-packages\\hypernetx\\classes\\hypergraph.py:563: FutureWarning: This method or function will be deprecated in a future release. Public references to this method or function will be removed from the Hypergraph API in a future release.\n",
      "  self._nodes = self.E.restrict_to_levels([1])\n",
      "C:\\Users\\Chowdhary\\AppData\\Roaming\\jupyterlab-desktop\\jlab_server\\lib\\site-packages\\hypernetx\\classes\\entityset.py:150: DeprecationWarning: misc_props_col and misc_cell_props_col will be deprecated; all public references to these arguments will be removed in a future release.\n",
      "  warnings.warn(\n",
      "C:\\Users\\Chowdhary\\AppData\\Roaming\\jupyterlab-desktop\\jlab_server\\lib\\site-packages\\hypernetx\\classes\\hypergraph.py:563: FutureWarning: This method or function will be deprecated in a future release. Public references to this method or function will be removed from the Hypergraph API in a future release.\n",
      "  self._nodes = self.E.restrict_to_levels([1])\n",
      "C:\\Users\\Chowdhary\\AppData\\Roaming\\jupyterlab-desktop\\jlab_server\\lib\\site-packages\\hypernetx\\classes\\entityset.py:150: DeprecationWarning: misc_props_col and misc_cell_props_col will be deprecated; all public references to these arguments will be removed in a future release.\n",
      "  warnings.warn(\n",
      "C:\\Users\\Chowdhary\\AppData\\Roaming\\jupyterlab-desktop\\jlab_server\\lib\\site-packages\\hypernetx\\classes\\hypergraph.py:563: FutureWarning: This method or function will be deprecated in a future release. Public references to this method or function will be removed from the Hypergraph API in a future release.\n",
      "  self._nodes = self.E.restrict_to_levels([1])\n",
      "C:\\Users\\Chowdhary\\AppData\\Roaming\\jupyterlab-desktop\\jlab_server\\lib\\site-packages\\hypernetx\\classes\\entityset.py:150: DeprecationWarning: misc_props_col and misc_cell_props_col will be deprecated; all public references to these arguments will be removed in a future release.\n",
      "  warnings.warn(\n",
      "C:\\Users\\Chowdhary\\AppData\\Roaming\\jupyterlab-desktop\\jlab_server\\lib\\site-packages\\hypernetx\\classes\\hypergraph.py:563: FutureWarning: This method or function will be deprecated in a future release. Public references to this method or function will be removed from the Hypergraph API in a future release.\n",
      "  self._nodes = self.E.restrict_to_levels([1])\n",
      "C:\\Users\\Chowdhary\\AppData\\Roaming\\jupyterlab-desktop\\jlab_server\\lib\\site-packages\\hypernetx\\classes\\entityset.py:150: DeprecationWarning: misc_props_col and misc_cell_props_col will be deprecated; all public references to these arguments will be removed in a future release.\n",
      "  warnings.warn(\n",
      "C:\\Users\\Chowdhary\\AppData\\Roaming\\jupyterlab-desktop\\jlab_server\\lib\\site-packages\\hypernetx\\classes\\hypergraph.py:563: FutureWarning: This method or function will be deprecated in a future release. Public references to this method or function will be removed from the Hypergraph API in a future release.\n",
      "  self._nodes = self.E.restrict_to_levels([1])\n",
      "C:\\Users\\Chowdhary\\AppData\\Roaming\\jupyterlab-desktop\\jlab_server\\lib\\site-packages\\hypernetx\\classes\\entityset.py:150: DeprecationWarning: misc_props_col and misc_cell_props_col will be deprecated; all public references to these arguments will be removed in a future release.\n",
      "  warnings.warn(\n",
      "C:\\Users\\Chowdhary\\AppData\\Roaming\\jupyterlab-desktop\\jlab_server\\lib\\site-packages\\hypernetx\\classes\\hypergraph.py:563: FutureWarning: This method or function will be deprecated in a future release. Public references to this method or function will be removed from the Hypergraph API in a future release.\n",
      "  self._nodes = self.E.restrict_to_levels([1])\n",
      "C:\\Users\\Chowdhary\\AppData\\Roaming\\jupyterlab-desktop\\jlab_server\\lib\\site-packages\\hypernetx\\classes\\entityset.py:150: DeprecationWarning: misc_props_col and misc_cell_props_col will be deprecated; all public references to these arguments will be removed in a future release.\n",
      "  warnings.warn(\n",
      "C:\\Users\\Chowdhary\\AppData\\Roaming\\jupyterlab-desktop\\jlab_server\\lib\\site-packages\\hypernetx\\classes\\hypergraph.py:563: FutureWarning: This method or function will be deprecated in a future release. Public references to this method or function will be removed from the Hypergraph API in a future release.\n",
      "  self._nodes = self.E.restrict_to_levels([1])\n",
      "C:\\Users\\Chowdhary\\AppData\\Roaming\\jupyterlab-desktop\\jlab_server\\lib\\site-packages\\hypernetx\\classes\\entityset.py:150: DeprecationWarning: misc_props_col and misc_cell_props_col will be deprecated; all public references to these arguments will be removed in a future release.\n",
      "  warnings.warn(\n",
      "C:\\Users\\Chowdhary\\AppData\\Roaming\\jupyterlab-desktop\\jlab_server\\lib\\site-packages\\hypernetx\\classes\\hypergraph.py:563: FutureWarning: This method or function will be deprecated in a future release. Public references to this method or function will be removed from the Hypergraph API in a future release.\n",
      "  self._nodes = self.E.restrict_to_levels([1])\n",
      "C:\\Users\\Chowdhary\\AppData\\Roaming\\jupyterlab-desktop\\jlab_server\\lib\\site-packages\\hypernetx\\classes\\entityset.py:150: DeprecationWarning: misc_props_col and misc_cell_props_col will be deprecated; all public references to these arguments will be removed in a future release.\n",
      "  warnings.warn(\n",
      "C:\\Users\\Chowdhary\\AppData\\Roaming\\jupyterlab-desktop\\jlab_server\\lib\\site-packages\\hypernetx\\classes\\hypergraph.py:563: FutureWarning: This method or function will be deprecated in a future release. Public references to this method or function will be removed from the Hypergraph API in a future release.\n",
      "  self._nodes = self.E.restrict_to_levels([1])\n",
      "C:\\Users\\Chowdhary\\AppData\\Roaming\\jupyterlab-desktop\\jlab_server\\lib\\site-packages\\hypernetx\\classes\\entityset.py:150: DeprecationWarning: misc_props_col and misc_cell_props_col will be deprecated; all public references to these arguments will be removed in a future release.\n",
      "  warnings.warn(\n",
      "C:\\Users\\Chowdhary\\AppData\\Roaming\\jupyterlab-desktop\\jlab_server\\lib\\site-packages\\hypernetx\\classes\\hypergraph.py:563: FutureWarning: This method or function will be deprecated in a future release. Public references to this method or function will be removed from the Hypergraph API in a future release.\n",
      "  self._nodes = self.E.restrict_to_levels([1])\n",
      "C:\\Users\\Chowdhary\\AppData\\Roaming\\jupyterlab-desktop\\jlab_server\\lib\\site-packages\\hypernetx\\classes\\entityset.py:150: DeprecationWarning: misc_props_col and misc_cell_props_col will be deprecated; all public references to these arguments will be removed in a future release.\n",
      "  warnings.warn(\n",
      "C:\\Users\\Chowdhary\\AppData\\Roaming\\jupyterlab-desktop\\jlab_server\\lib\\site-packages\\hypernetx\\classes\\hypergraph.py:563: FutureWarning: This method or function will be deprecated in a future release. Public references to this method or function will be removed from the Hypergraph API in a future release.\n",
      "  self._nodes = self.E.restrict_to_levels([1])\n",
      "C:\\Users\\Chowdhary\\AppData\\Roaming\\jupyterlab-desktop\\jlab_server\\lib\\site-packages\\hypernetx\\classes\\entityset.py:150: DeprecationWarning: misc_props_col and misc_cell_props_col will be deprecated; all public references to these arguments will be removed in a future release.\n",
      "  warnings.warn(\n",
      "C:\\Users\\Chowdhary\\AppData\\Roaming\\jupyterlab-desktop\\jlab_server\\lib\\site-packages\\hypernetx\\classes\\hypergraph.py:563: FutureWarning: This method or function will be deprecated in a future release. Public references to this method or function will be removed from the Hypergraph API in a future release.\n",
      "  self._nodes = self.E.restrict_to_levels([1])\n",
      "C:\\Users\\Chowdhary\\AppData\\Roaming\\jupyterlab-desktop\\jlab_server\\lib\\site-packages\\hypernetx\\classes\\entityset.py:150: DeprecationWarning: misc_props_col and misc_cell_props_col will be deprecated; all public references to these arguments will be removed in a future release.\n",
      "  warnings.warn(\n",
      "C:\\Users\\Chowdhary\\AppData\\Roaming\\jupyterlab-desktop\\jlab_server\\lib\\site-packages\\hypernetx\\classes\\hypergraph.py:563: FutureWarning: This method or function will be deprecated in a future release. Public references to this method or function will be removed from the Hypergraph API in a future release.\n",
      "  self._nodes = self.E.restrict_to_levels([1])\n",
      "C:\\Users\\Chowdhary\\AppData\\Roaming\\jupyterlab-desktop\\jlab_server\\lib\\site-packages\\hypernetx\\classes\\entityset.py:150: DeprecationWarning: misc_props_col and misc_cell_props_col will be deprecated; all public references to these arguments will be removed in a future release.\n",
      "  warnings.warn(\n",
      "C:\\Users\\Chowdhary\\AppData\\Roaming\\jupyterlab-desktop\\jlab_server\\lib\\site-packages\\hypernetx\\classes\\hypergraph.py:563: FutureWarning: This method or function will be deprecated in a future release. Public references to this method or function will be removed from the Hypergraph API in a future release.\n",
      "  self._nodes = self.E.restrict_to_levels([1])\n",
      "C:\\Users\\Chowdhary\\AppData\\Roaming\\jupyterlab-desktop\\jlab_server\\lib\\site-packages\\hypernetx\\classes\\entityset.py:150: DeprecationWarning: misc_props_col and misc_cell_props_col will be deprecated; all public references to these arguments will be removed in a future release.\n",
      "  warnings.warn(\n",
      "C:\\Users\\Chowdhary\\AppData\\Roaming\\jupyterlab-desktop\\jlab_server\\lib\\site-packages\\hypernetx\\classes\\hypergraph.py:563: FutureWarning: This method or function will be deprecated in a future release. Public references to this method or function will be removed from the Hypergraph API in a future release.\n",
      "  self._nodes = self.E.restrict_to_levels([1])\n",
      "C:\\Users\\Chowdhary\\AppData\\Roaming\\jupyterlab-desktop\\jlab_server\\lib\\site-packages\\hypernetx\\classes\\entityset.py:150: DeprecationWarning: misc_props_col and misc_cell_props_col will be deprecated; all public references to these arguments will be removed in a future release.\n",
      "  warnings.warn(\n",
      "C:\\Users\\Chowdhary\\AppData\\Roaming\\jupyterlab-desktop\\jlab_server\\lib\\site-packages\\hypernetx\\classes\\hypergraph.py:563: FutureWarning: This method or function will be deprecated in a future release. Public references to this method or function will be removed from the Hypergraph API in a future release.\n",
      "  self._nodes = self.E.restrict_to_levels([1])\n",
      "C:\\Users\\Chowdhary\\AppData\\Roaming\\jupyterlab-desktop\\jlab_server\\lib\\site-packages\\hypernetx\\classes\\entityset.py:150: DeprecationWarning: misc_props_col and misc_cell_props_col will be deprecated; all public references to these arguments will be removed in a future release.\n",
      "  warnings.warn(\n",
      "C:\\Users\\Chowdhary\\AppData\\Roaming\\jupyterlab-desktop\\jlab_server\\lib\\site-packages\\hypernetx\\classes\\hypergraph.py:563: FutureWarning: This method or function will be deprecated in a future release. Public references to this method or function will be removed from the Hypergraph API in a future release.\n",
      "  self._nodes = self.E.restrict_to_levels([1])\n",
      "C:\\Users\\Chowdhary\\AppData\\Roaming\\jupyterlab-desktop\\jlab_server\\lib\\site-packages\\hypernetx\\classes\\entityset.py:150: DeprecationWarning: misc_props_col and misc_cell_props_col will be deprecated; all public references to these arguments will be removed in a future release.\n",
      "  warnings.warn(\n",
      "C:\\Users\\Chowdhary\\AppData\\Roaming\\jupyterlab-desktop\\jlab_server\\lib\\site-packages\\hypernetx\\classes\\hypergraph.py:563: FutureWarning: This method or function will be deprecated in a future release. Public references to this method or function will be removed from the Hypergraph API in a future release.\n",
      "  self._nodes = self.E.restrict_to_levels([1])\n",
      "C:\\Users\\Chowdhary\\AppData\\Roaming\\jupyterlab-desktop\\jlab_server\\lib\\site-packages\\hypernetx\\classes\\entityset.py:150: DeprecationWarning: misc_props_col and misc_cell_props_col will be deprecated; all public references to these arguments will be removed in a future release.\n",
      "  warnings.warn(\n",
      "C:\\Users\\Chowdhary\\AppData\\Roaming\\jupyterlab-desktop\\jlab_server\\lib\\site-packages\\hypernetx\\classes\\hypergraph.py:563: FutureWarning: This method or function will be deprecated in a future release. Public references to this method or function will be removed from the Hypergraph API in a future release.\n",
      "  self._nodes = self.E.restrict_to_levels([1])\n",
      "C:\\Users\\Chowdhary\\AppData\\Roaming\\jupyterlab-desktop\\jlab_server\\lib\\site-packages\\hypernetx\\classes\\entityset.py:150: DeprecationWarning: misc_props_col and misc_cell_props_col will be deprecated; all public references to these arguments will be removed in a future release.\n",
      "  warnings.warn(\n",
      "C:\\Users\\Chowdhary\\AppData\\Roaming\\jupyterlab-desktop\\jlab_server\\lib\\site-packages\\hypernetx\\classes\\hypergraph.py:563: FutureWarning: This method or function will be deprecated in a future release. Public references to this method or function will be removed from the Hypergraph API in a future release.\n",
      "  self._nodes = self.E.restrict_to_levels([1])\n",
      "C:\\Users\\Chowdhary\\AppData\\Roaming\\jupyterlab-desktop\\jlab_server\\lib\\site-packages\\hypernetx\\classes\\entityset.py:150: DeprecationWarning: misc_props_col and misc_cell_props_col will be deprecated; all public references to these arguments will be removed in a future release.\n",
      "  warnings.warn(\n",
      "C:\\Users\\Chowdhary\\AppData\\Roaming\\jupyterlab-desktop\\jlab_server\\lib\\site-packages\\hypernetx\\classes\\hypergraph.py:563: FutureWarning: This method or function will be deprecated in a future release. Public references to this method or function will be removed from the Hypergraph API in a future release.\n",
      "  self._nodes = self.E.restrict_to_levels([1])\n",
      "C:\\Users\\Chowdhary\\AppData\\Roaming\\jupyterlab-desktop\\jlab_server\\lib\\site-packages\\hypernetx\\classes\\entityset.py:150: DeprecationWarning: misc_props_col and misc_cell_props_col will be deprecated; all public references to these arguments will be removed in a future release.\n",
      "  warnings.warn(\n",
      "C:\\Users\\Chowdhary\\AppData\\Roaming\\jupyterlab-desktop\\jlab_server\\lib\\site-packages\\hypernetx\\classes\\hypergraph.py:563: FutureWarning: This method or function will be deprecated in a future release. Public references to this method or function will be removed from the Hypergraph API in a future release.\n",
      "  self._nodes = self.E.restrict_to_levels([1])\n",
      "C:\\Users\\Chowdhary\\AppData\\Roaming\\jupyterlab-desktop\\jlab_server\\lib\\site-packages\\hypernetx\\classes\\entityset.py:150: DeprecationWarning: misc_props_col and misc_cell_props_col will be deprecated; all public references to these arguments will be removed in a future release.\n",
      "  warnings.warn(\n",
      "C:\\Users\\Chowdhary\\AppData\\Roaming\\jupyterlab-desktop\\jlab_server\\lib\\site-packages\\hypernetx\\classes\\hypergraph.py:563: FutureWarning: This method or function will be deprecated in a future release. Public references to this method or function will be removed from the Hypergraph API in a future release.\n",
      "  self._nodes = self.E.restrict_to_levels([1])\n",
      "C:\\Users\\Chowdhary\\AppData\\Roaming\\jupyterlab-desktop\\jlab_server\\lib\\site-packages\\hypernetx\\classes\\entityset.py:150: DeprecationWarning: misc_props_col and misc_cell_props_col will be deprecated; all public references to these arguments will be removed in a future release.\n",
      "  warnings.warn(\n",
      "C:\\Users\\Chowdhary\\AppData\\Roaming\\jupyterlab-desktop\\jlab_server\\lib\\site-packages\\hypernetx\\classes\\hypergraph.py:563: FutureWarning: This method or function will be deprecated in a future release. Public references to this method or function will be removed from the Hypergraph API in a future release.\n",
      "  self._nodes = self.E.restrict_to_levels([1])\n",
      "C:\\Users\\Chowdhary\\AppData\\Roaming\\jupyterlab-desktop\\jlab_server\\lib\\site-packages\\hypernetx\\classes\\entityset.py:150: DeprecationWarning: misc_props_col and misc_cell_props_col will be deprecated; all public references to these arguments will be removed in a future release.\n",
      "  warnings.warn(\n",
      "C:\\Users\\Chowdhary\\AppData\\Roaming\\jupyterlab-desktop\\jlab_server\\lib\\site-packages\\hypernetx\\classes\\hypergraph.py:563: FutureWarning: This method or function will be deprecated in a future release. Public references to this method or function will be removed from the Hypergraph API in a future release.\n",
      "  self._nodes = self.E.restrict_to_levels([1])\n",
      "C:\\Users\\Chowdhary\\AppData\\Roaming\\jupyterlab-desktop\\jlab_server\\lib\\site-packages\\hypernetx\\classes\\entityset.py:150: DeprecationWarning: misc_props_col and misc_cell_props_col will be deprecated; all public references to these arguments will be removed in a future release.\n",
      "  warnings.warn(\n",
      "C:\\Users\\Chowdhary\\AppData\\Roaming\\jupyterlab-desktop\\jlab_server\\lib\\site-packages\\hypernetx\\classes\\hypergraph.py:563: FutureWarning: This method or function will be deprecated in a future release. Public references to this method or function will be removed from the Hypergraph API in a future release.\n",
      "  self._nodes = self.E.restrict_to_levels([1])\n",
      "C:\\Users\\Chowdhary\\AppData\\Roaming\\jupyterlab-desktop\\jlab_server\\lib\\site-packages\\hypernetx\\classes\\entityset.py:150: DeprecationWarning: misc_props_col and misc_cell_props_col will be deprecated; all public references to these arguments will be removed in a future release.\n",
      "  warnings.warn(\n",
      "C:\\Users\\Chowdhary\\AppData\\Roaming\\jupyterlab-desktop\\jlab_server\\lib\\site-packages\\hypernetx\\classes\\hypergraph.py:563: FutureWarning: This method or function will be deprecated in a future release. Public references to this method or function will be removed from the Hypergraph API in a future release.\n",
      "  self._nodes = self.E.restrict_to_levels([1])\n",
      "C:\\Users\\Chowdhary\\AppData\\Roaming\\jupyterlab-desktop\\jlab_server\\lib\\site-packages\\hypernetx\\classes\\entityset.py:150: DeprecationWarning: misc_props_col and misc_cell_props_col will be deprecated; all public references to these arguments will be removed in a future release.\n",
      "  warnings.warn(\n",
      "C:\\Users\\Chowdhary\\AppData\\Roaming\\jupyterlab-desktop\\jlab_server\\lib\\site-packages\\hypernetx\\classes\\hypergraph.py:563: FutureWarning: This method or function will be deprecated in a future release. Public references to this method or function will be removed from the Hypergraph API in a future release.\n",
      "  self._nodes = self.E.restrict_to_levels([1])\n",
      "C:\\Users\\Chowdhary\\AppData\\Roaming\\jupyterlab-desktop\\jlab_server\\lib\\site-packages\\hypernetx\\classes\\entityset.py:150: DeprecationWarning: misc_props_col and misc_cell_props_col will be deprecated; all public references to these arguments will be removed in a future release.\n",
      "  warnings.warn(\n",
      "C:\\Users\\Chowdhary\\AppData\\Roaming\\jupyterlab-desktop\\jlab_server\\lib\\site-packages\\hypernetx\\classes\\hypergraph.py:563: FutureWarning: This method or function will be deprecated in a future release. Public references to this method or function will be removed from the Hypergraph API in a future release.\n",
      "  self._nodes = self.E.restrict_to_levels([1])\n",
      "C:\\Users\\Chowdhary\\AppData\\Roaming\\jupyterlab-desktop\\jlab_server\\lib\\site-packages\\hypernetx\\classes\\entityset.py:150: DeprecationWarning: misc_props_col and misc_cell_props_col will be deprecated; all public references to these arguments will be removed in a future release.\n",
      "  warnings.warn(\n",
      "C:\\Users\\Chowdhary\\AppData\\Roaming\\jupyterlab-desktop\\jlab_server\\lib\\site-packages\\hypernetx\\classes\\hypergraph.py:563: FutureWarning: This method or function will be deprecated in a future release. Public references to this method or function will be removed from the Hypergraph API in a future release.\n",
      "  self._nodes = self.E.restrict_to_levels([1])\n",
      "C:\\Users\\Chowdhary\\AppData\\Roaming\\jupyterlab-desktop\\jlab_server\\lib\\site-packages\\hypernetx\\classes\\entityset.py:150: DeprecationWarning: misc_props_col and misc_cell_props_col will be deprecated; all public references to these arguments will be removed in a future release.\n",
      "  warnings.warn(\n",
      "C:\\Users\\Chowdhary\\AppData\\Roaming\\jupyterlab-desktop\\jlab_server\\lib\\site-packages\\hypernetx\\classes\\hypergraph.py:563: FutureWarning: This method or function will be deprecated in a future release. Public references to this method or function will be removed from the Hypergraph API in a future release.\n",
      "  self._nodes = self.E.restrict_to_levels([1])\n",
      "C:\\Users\\Chowdhary\\AppData\\Roaming\\jupyterlab-desktop\\jlab_server\\lib\\site-packages\\hypernetx\\classes\\entityset.py:150: DeprecationWarning: misc_props_col and misc_cell_props_col will be deprecated; all public references to these arguments will be removed in a future release.\n",
      "  warnings.warn(\n",
      "C:\\Users\\Chowdhary\\AppData\\Roaming\\jupyterlab-desktop\\jlab_server\\lib\\site-packages\\hypernetx\\classes\\hypergraph.py:563: FutureWarning: This method or function will be deprecated in a future release. Public references to this method or function will be removed from the Hypergraph API in a future release.\n",
      "  self._nodes = self.E.restrict_to_levels([1])\n",
      "C:\\Users\\Chowdhary\\AppData\\Roaming\\jupyterlab-desktop\\jlab_server\\lib\\site-packages\\hypernetx\\classes\\entityset.py:150: DeprecationWarning: misc_props_col and misc_cell_props_col will be deprecated; all public references to these arguments will be removed in a future release.\n",
      "  warnings.warn(\n",
      "C:\\Users\\Chowdhary\\AppData\\Roaming\\jupyterlab-desktop\\jlab_server\\lib\\site-packages\\hypernetx\\classes\\hypergraph.py:563: FutureWarning: This method or function will be deprecated in a future release. Public references to this method or function will be removed from the Hypergraph API in a future release.\n",
      "  self._nodes = self.E.restrict_to_levels([1])\n",
      "C:\\Users\\Chowdhary\\AppData\\Roaming\\jupyterlab-desktop\\jlab_server\\lib\\site-packages\\hypernetx\\classes\\entityset.py:150: DeprecationWarning: misc_props_col and misc_cell_props_col will be deprecated; all public references to these arguments will be removed in a future release.\n",
      "  warnings.warn(\n",
      "C:\\Users\\Chowdhary\\AppData\\Roaming\\jupyterlab-desktop\\jlab_server\\lib\\site-packages\\hypernetx\\classes\\hypergraph.py:563: FutureWarning: This method or function will be deprecated in a future release. Public references to this method or function will be removed from the Hypergraph API in a future release.\n",
      "  self._nodes = self.E.restrict_to_levels([1])\n"
     ]
    },
    {
     "data": {
      "text/html": [
       "<div>\n",
       "<style scoped>\n",
       "    .dataframe tbody tr th:only-of-type {\n",
       "        vertical-align: middle;\n",
       "    }\n",
       "\n",
       "    .dataframe tbody tr th {\n",
       "        vertical-align: top;\n",
       "    }\n",
       "\n",
       "    .dataframe thead th {\n",
       "        text-align: right;\n",
       "    }\n",
       "</style>\n",
       "<table border=\"1\" class=\"dataframe\">\n",
       "  <thead>\n",
       "    <tr style=\"text-align: right;\">\n",
       "      <th></th>\n",
       "      <th>FullName</th>\n",
       "      <th>Description</th>\n",
       "    </tr>\n",
       "    <tr>\n",
       "      <th>Symbol</th>\n",
       "      <th></th>\n",
       "      <th></th>\n",
       "    </tr>\n",
       "  </thead>\n",
       "  <tbody>\n",
       "    <tr>\n",
       "      <th>AZ</th>\n",
       "      <td>Anzelma</td>\n",
       "      <td>daughter of TH and TM</td>\n",
       "    </tr>\n",
       "    <tr>\n",
       "      <th>BA</th>\n",
       "      <td>Bahorel</td>\n",
       "      <td>`Friends of the ABC' cutup</td>\n",
       "    </tr>\n",
       "    <tr>\n",
       "      <th>BB</th>\n",
       "      <td>Babet</td>\n",
       "      <td>tooth-pulling bandit of Paris</td>\n",
       "    </tr>\n",
       "    <tr>\n",
       "      <th>BJ</th>\n",
       "      <td>Brujon</td>\n",
       "      <td>notorious criminal</td>\n",
       "    </tr>\n",
       "    <tr>\n",
       "      <th>BL</th>\n",
       "      <td>Blacheville</td>\n",
       "      <td>Parisian student from Montauban</td>\n",
       "    </tr>\n",
       "    <tr>\n",
       "      <th>...</th>\n",
       "      <td>...</td>\n",
       "      <td>...</td>\n",
       "    </tr>\n",
       "    <tr>\n",
       "      <th>TS</th>\n",
       "      <td>Toussaint</td>\n",
       "      <td>servant of JV at Rue Plumet</td>\n",
       "    </tr>\n",
       "    <tr>\n",
       "      <th>VI</th>\n",
       "      <td>Madame Victurnien</td>\n",
       "      <td>snoop in M-- sur M--</td>\n",
       "    </tr>\n",
       "    <tr>\n",
       "      <th>XA</th>\n",
       "      <td>Child 1</td>\n",
       "      <td>son of TH sold to MN</td>\n",
       "    </tr>\n",
       "    <tr>\n",
       "      <th>XB</th>\n",
       "      <td>Child 2</td>\n",
       "      <td>son of TH sold to MN</td>\n",
       "    </tr>\n",
       "    <tr>\n",
       "      <th>ZE</th>\n",
       "      <td>Zephine</td>\n",
       "      <td>lover of FA</td>\n",
       "    </tr>\n",
       "  </tbody>\n",
       "</table>\n",
       "<p>80 rows × 2 columns</p>\n",
       "</div>"
      ],
      "text/plain": [
       "                 FullName                       Description\n",
       "Symbol                                                     \n",
       "AZ                Anzelma             daughter of TH and TM\n",
       "BA                Bahorel        `Friends of the ABC' cutup\n",
       "BB                  Babet     tooth-pulling bandit of Paris\n",
       "BJ                 Brujon                notorious criminal\n",
       "BL            Blacheville   Parisian student from Montauban\n",
       "...                   ...                               ...\n",
       "TS              Toussaint       servant of JV at Rue Plumet\n",
       "VI      Madame Victurnien              snoop in M-- sur M--\n",
       "XA                Child 1              son of TH sold to MN\n",
       "XB                Child 2              son of TH sold to MN\n",
       "ZE                Zephine                       lover of FA\n",
       "\n",
       "[80 rows x 2 columns]"
      ]
     },
     "execution_count": 2,
     "metadata": {},
     "output_type": "execute_result"
    }
   ],
   "source": [
    "scenes = {\n",
    "    0: ('FN', 'TH'),\n",
    "    1: ('TH', 'JV'),\n",
    "    2: ('BM', 'FN', 'JA'),\n",
    "    3: ('JV', 'JU', 'CH', 'BM'),\n",
    "    4: ('JU', 'CH', 'BR', 'CN', 'CC', 'JV', 'BM'),\n",
    "    5: ('TH', 'GP'),\n",
    "    6: ('GP', 'MP'),\n",
    "    7: ('MA', 'GP'),\n",
    "}\n",
    "H = hnx.Hypergraph(scenes)\n",
    "dnames = LesMis().dnames\n",
    "dnames"
   ]
  },
  {
   "cell_type": "code",
   "execution_count": 3,
   "metadata": {},
   "outputs": [
    {
     "name": "stdout",
     "output_type": "stream",
     "text": [
      "Requirement already satisfied: ipywidgets in c:\\users\\chowdhary\\appdata\\roaming\\jupyterlab-desktop\\jlab_server\\lib\\site-packages (8.1.2)\n",
      "Requirement already satisfied: comm>=0.1.3 in c:\\users\\chowdhary\\appdata\\roaming\\jupyterlab-desktop\\jlab_server\\lib\\site-packages (from ipywidgets) (0.1.3)\n",
      "Requirement already satisfied: ipython>=6.1.0 in c:\\users\\chowdhary\\appdata\\roaming\\jupyterlab-desktop\\jlab_server\\lib\\site-packages (from ipywidgets) (8.12.0)\n",
      "Requirement already satisfied: traitlets>=4.3.1 in c:\\users\\chowdhary\\appdata\\roaming\\jupyterlab-desktop\\jlab_server\\lib\\site-packages (from ipywidgets) (5.9.0)\n",
      "Requirement already satisfied: widgetsnbextension~=4.0.10 in c:\\users\\chowdhary\\appdata\\roaming\\jupyterlab-desktop\\jlab_server\\lib\\site-packages (from ipywidgets) (4.0.10)\n",
      "Requirement already satisfied: jupyterlab-widgets~=3.0.10 in c:\\users\\chowdhary\\appdata\\roaming\\jupyterlab-desktop\\jlab_server\\lib\\site-packages (from ipywidgets) (3.0.10)\n",
      "Requirement already satisfied: backcall in c:\\users\\chowdhary\\appdata\\roaming\\jupyterlab-desktop\\jlab_server\\lib\\site-packages (from ipython>=6.1.0->ipywidgets) (0.2.0)\n",
      "Requirement already satisfied: decorator in c:\\users\\chowdhary\\appdata\\roaming\\jupyterlab-desktop\\jlab_server\\lib\\site-packages (from ipython>=6.1.0->ipywidgets) (5.1.1)\n",
      "Requirement already satisfied: jedi>=0.16 in c:\\users\\chowdhary\\appdata\\roaming\\jupyterlab-desktop\\jlab_server\\lib\\site-packages (from ipython>=6.1.0->ipywidgets) (0.18.2)\n",
      "Requirement already satisfied: matplotlib-inline in c:\\users\\chowdhary\\appdata\\roaming\\jupyterlab-desktop\\jlab_server\\lib\\site-packages (from ipython>=6.1.0->ipywidgets) (0.1.6)\n",
      "Requirement already satisfied: pickleshare in c:\\users\\chowdhary\\appdata\\roaming\\jupyterlab-desktop\\jlab_server\\lib\\site-packages (from ipython>=6.1.0->ipywidgets) (0.7.5)\n",
      "Requirement already satisfied: prompt-toolkit!=3.0.37,<3.1.0,>=3.0.30 in c:\\users\\chowdhary\\appdata\\roaming\\jupyterlab-desktop\\jlab_server\\lib\\site-packages (from ipython>=6.1.0->ipywidgets) (3.0.38)\n",
      "Requirement already satisfied: pygments>=2.4.0 in c:\\users\\chowdhary\\appdata\\roaming\\jupyterlab-desktop\\jlab_server\\lib\\site-packages (from ipython>=6.1.0->ipywidgets) (2.15.1)\n",
      "Requirement already satisfied: stack-data in c:\\users\\chowdhary\\appdata\\roaming\\jupyterlab-desktop\\jlab_server\\lib\\site-packages (from ipython>=6.1.0->ipywidgets) (0.6.2)\n",
      "Requirement already satisfied: typing-extensions in c:\\users\\chowdhary\\appdata\\roaming\\jupyterlab-desktop\\jlab_server\\lib\\site-packages (from ipython>=6.1.0->ipywidgets) (4.10.0)\n",
      "Requirement already satisfied: colorama in c:\\users\\chowdhary\\appdata\\roaming\\jupyterlab-desktop\\jlab_server\\lib\\site-packages (from ipython>=6.1.0->ipywidgets) (0.4.6)\n",
      "Requirement already satisfied: parso<0.9.0,>=0.8.0 in c:\\users\\chowdhary\\appdata\\roaming\\jupyterlab-desktop\\jlab_server\\lib\\site-packages (from jedi>=0.16->ipython>=6.1.0->ipywidgets) (0.8.3)\n",
      "Requirement already satisfied: wcwidth in c:\\users\\chowdhary\\appdata\\roaming\\jupyterlab-desktop\\jlab_server\\lib\\site-packages (from prompt-toolkit!=3.0.37,<3.1.0,>=3.0.30->ipython>=6.1.0->ipywidgets) (0.2.6)\n",
      "Requirement already satisfied: executing>=1.2.0 in c:\\users\\chowdhary\\appdata\\roaming\\jupyterlab-desktop\\jlab_server\\lib\\site-packages (from stack-data->ipython>=6.1.0->ipywidgets) (1.2.0)\n",
      "Requirement already satisfied: asttokens>=2.1.0 in c:\\users\\chowdhary\\appdata\\roaming\\jupyterlab-desktop\\jlab_server\\lib\\site-packages (from stack-data->ipython>=6.1.0->ipywidgets) (2.2.1)\n",
      "Requirement already satisfied: pure-eval in c:\\users\\chowdhary\\appdata\\roaming\\jupyterlab-desktop\\jlab_server\\lib\\site-packages (from stack-data->ipython>=6.1.0->ipywidgets) (0.2.2)\n",
      "Requirement already satisfied: six in c:\\users\\chowdhary\\appdata\\roaming\\jupyterlab-desktop\\jlab_server\\lib\\site-packages (from asttokens>=2.1.0->stack-data->ipython>=6.1.0->ipywidgets) (1.16.0)\n"
     ]
    }
   ],
   "source": [
    "# !pip install ipywidgets==7.7.2\n",
    "# !pip install jupyterlab_widgets==1.1.1\n",
    "!pip install -U ipywidgets"
   ]
  },
  {
   "cell_type": "markdown",
   "metadata": {},
   "source": [
    "## I. LesMis Hypergraph in the Hypernetx-Widget - Default Behavior\n",
    "The widget allows you to interactively move, color, select, and hide objects in the hypergraph. Click on the question mark in the Navigation menu for a description of interactive features."
   ]
  },
  {
   "cell_type": "code",
   "execution_count": 4,
   "metadata": {},
   "outputs": [
    {
     "data": {
      "application/vnd.jupyter.widget-view+json": {
       "model_id": "aa412d4c62ef478e9a5058ce4d55c8bc",
       "version_major": 2,
       "version_minor": 0
      },
      "text/plain": [
       "HypernetxWidget(component='HypernetxWidget', props={'nodes': [{'uid': 'BM'}, {'uid': 'JA'}, {'uid': 'FN'}, {'u…"
      ]
     },
     "execution_count": 4,
     "metadata": {},
     "output_type": "execute_result"
    }
   ],
   "source": [
    "## Default behavior\n",
    "# !jupyter nbextension enable --py widgetsnbextension\n",
    "\n",
    "example1 = HypernetxWidget(H)\n",
    "example1"
   ]
  },
  {
   "cell_type": "markdown",
   "metadata": {},
   "source": [
    "## II. Preset attributes \n",
    "Some of the visualization attributes of the hypergraph may be set using similar parameters as the hnx.draw function"
   ]
  },
  {
   "cell_type": "code",
   "execution_count": 5,
   "metadata": {},
   "outputs": [
    {
     "data": {
      "application/vnd.jupyter.widget-view+json": {
       "model_id": "59b8b18d415d4d40b7e011d957709ce3",
       "version_major": 2,
       "version_minor": 0
      },
      "text/plain": [
       "HypernetxWidget(component='HypernetxWidget', props={'nodes': [{'uid': 'BM'}, {'uid': 'JA'}, {'uid': 'FN'}, {'u…"
      ]
     },
     "execution_count": 5,
     "metadata": {},
     "output_type": "execute_result"
    }
   ],
   "source": [
    "# node_colors = {k:'r' if k in ['JV','TH','FN'] else 'b' for k in H.nodes}\n",
    "example2 = HypernetxWidget(\n",
    "    H,\n",
    "#     nodes_kwargs={'color':node_colors},\n",
    "    edges_kwargs={'edgecolors':'g'}\n",
    ")\n",
    "example2"
   ]
  },
  {
   "cell_type": "markdown",
   "metadata": {},
   "source": [
    "## III. Attributes of visualization:\n",
    "The `get_state()` method returns the attributes available from a widget for reuse.\n",
    "\n",
    "**Note:** if you \"Run All\" this notebook, the following cells may produce an exception. Acquiring the widget state in python requires some time for the widget to initialize and render. Run the cells below individually for best results."
   ]
  },
  {
   "cell_type": "code",
   "execution_count": null,
   "metadata": {
    "scrolled": true
   },
   "outputs": [],
   "source": [
    "example2.get_state()"
   ]
  },
  {
   "cell_type": "markdown",
   "metadata": {},
   "source": [
    "## IV. Reuse attributes\n",
    "Once an attribute of a widget visualization has been set it may be reused in another visualization"
   ]
  },
  {
   "cell_type": "code",
   "execution_count": null,
   "metadata": {},
   "outputs": [],
   "source": [
    "example3 = HypernetxWidget(\n",
    "    H,\n",
    "    nodes_kwargs={'color': example2.node_fill}\n",
    ")\n",
    "\n",
    "example3"
   ]
  },
  {
   "cell_type": "markdown",
   "metadata": {},
   "source": [
    "## V. Setting Labels and Callouts\n",
    "We can also adjust specific labels and add call outs as node or edge data."
   ]
  },
  {
   "cell_type": "code",
   "execution_count": null,
   "metadata": {},
   "outputs": [],
   "source": [
    "example4 = HypernetxWidget(\n",
    "    H,\n",
    "    collapse_nodes=True,\n",
    "    node_data=dnames,\n",
    "    node_labels={'JV': 'Valjean'},\n",
    "    edge_labels={0: 'scene 0'},\n",
    "    nodes_kwargs={'color':'pink'},\n",
    ")\n",
    "==\n",
    "ex\\ample4"
   ]
  },
  {
   "cell_type": "code",
   "execution_count": null,
   "metadata": {},
   "outputs": [],
   "source": []
  }
 ],
 "metadata": {
  "kernelspec": {
   "display_name": "Python 3 (ipykernel)",
   "language": "python",
   "name": "python3"
  },
  "language_info": {
   "codemirror_mode": {
    "name": "ipython",
    "version": 3
   },
   "file_extension": ".py",
   "mimetype": "text/x-python",
   "name": "python",
   "nbconvert_exporter": "python",
   "pygments_lexer": "ipython3",
   "version": "3.8.17"
  }
 },
 "nbformat": 4,
 "nbformat_minor": 4
}
