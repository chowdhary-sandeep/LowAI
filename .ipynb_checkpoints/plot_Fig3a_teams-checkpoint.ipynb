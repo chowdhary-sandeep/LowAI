{
 "cells": [
  {
   "cell_type": "code",
   "execution_count": 3,
   "id": "ed691083-51bd-4865-8462-7b7299098ca2",
   "metadata": {},
   "outputs": [],
   "source": [
    "import glob\n",
    "import time\n",
    "import timeit\n",
    "import pickle\n",
    "import requests\n",
    "import json\n",
    "import re\n",
    "import numpy as np\n",
    "import pandas as pd\n",
    "from multiprocessing import Pool\n",
    "from matplotlib import pyplot as plt\n",
    "from zipfile import ZipFile\n",
    "# import lxml.etree as etree\n",
    "# import xmlschema\n",
    "from pprint import pprint\n",
    "\n",
    "# If 'get_career' is a custom module you've created, keep this import\n",
    "# from get_career import *\n",
    "\n",
    "# Define 'toc' function once\n",
    "def toc(start_time):\n",
    "    elapsed = timeit.default_timer() - start_time\n",
    "    print(elapsed)\n",
    "\n",
    "# Record start time\n",
    "start_time = timeit.default_timer()\n",
    "\n",
    "import math\n",
    "import matplotlib as mpl\n",
    "import seaborn as sns\n",
    "import matplotlib.cm as cm\n",
    "import pickle\n",
    "import numpy as np\n",
    "import matplotlib.pyplot as plt\n",
    "from matplotlib import gridspec\n",
    "import matplotlib.transforms as mtransforms\n",
    "import pandas as pd\n",
    "%matplotlib inline\n",
    "%config InlineBackend.figure_format = 'svg'\n",
    "sns.set_context('talk')#, font_scale=1.5)\n",
    "mpl.rcParams.update({'text.usetex': False})\n",
    "from pandas.plotting import register_matplotlib_converters\n",
    "register_matplotlib_converters()\n",
    "# path_career='/mnt/sdb1/sandeep/openalex_ACTIV/'\n",
    "# GB_INLCUDED_OR_NOT='GB_NOT_INCLUDED'\n",
    "import matplotlib.pyplot as plt\n",
    "import seaborn as sns\n",
    "import matplotlib.gridspec as gridspec"
   ]
  },
  {
   "cell_type": "code",
   "execution_count": null,
   "id": "6316ca46-f8ff-40ba-912d-9112f3e589ab",
   "metadata": {},
   "outputs": [],
   "source": [
    "['Emmanuelle Charpentier', 'Rodger Novak', 'Elaine Tuomanen']\n",
    "\n",
    "[2.67552083 0.96186298 3.2898144  1.41631927 1.15610601 0.03865354]"
   ]
  },
  {
   "cell_type": "code",
   "execution_count": 15,
   "id": "bcb39ade-78bd-4e20-bdd5-304968f56a66",
   "metadata": {},
   "outputs": [
    {
     "data": {
      "text/plain": [
       "'W2142009418'"
      ]
     },
     "execution_count": 15,
     "metadata": {},
     "output_type": "execute_result"
    }
   ],
   "source": [
    "'https://openalex.org/W2142009418'.split('/')[-1]"
   ]
  },
  {
   "cell_type": "code",
   "execution_count": 16,
   "id": "93a95e21-1cf0-4517-b3bf-e19ab927b8fc",
   "metadata": {},
   "outputs": [
    {
     "name": "stdout",
     "output_type": "stream",
     "text": [
      "1\n",
      "2\n",
      "3\n",
      "4\n",
      "5\n",
      "6\n"
     ]
    }
   ],
   "source": [
    "works_=[];it=0\n",
    "for id in ['https://openalex.org/W2142009418', 'https://openalex.org/W2102768869',\n",
    " 'https://openalex.org/W2033010608', 'https://openalex.org/W2085392718',\n",
    " 'https://openalex.org/W2003204260' ,'https://openalex.org/W1586942034']:\n",
    "    it+=1\n",
    "    print(it)\n",
    "    url='https://api.openalex.org/works/'+id.split('/')[-1]\n",
    "    headers = {\n",
    "            'User-Agent': 'chowdhary_sandeep',\n",
    "            'From': 'chowdhary_sandeep@phd.ceu.edu'  # This is another valid field\n",
    "        }\n",
    "    cursor='*'\n",
    "    response = requests.get(url+'&per-page=200&cursor='+cursor,headers=headers)\n",
    "    res = json.loads(response.content.decode(\"utf-8\"))\n",
    "    works_.append(res)\n",
    "    \n",
    "            \n",
    "    # cursor='*'\n",
    "    # works_=[];it=0\n",
    "    # response = requests.get(url+'&per-page=200&cursor='+cursor,headers=headers)\n",
    "    # res = json.loads(response.content.decode(\"utf-8\"))\n",
    "    # works_.append(res)\n",
    "    # totalpages=math.ceil(res['meta']['count']/200)\n",
    "    \n",
    "    # while not(res['meta']['next_cursor'] is None):\n",
    "    #     it+=1\n",
    "    #     print(it/totalpages,end='\\r')\n",
    "    #     cursor=res['meta']['next_cursor']\n",
    "    #     try:\n",
    "    #         response = requests.get(url+'&per-page=200&cursor='+cursor,headers=headers)\n",
    "    #         response.raise_for_status()  # raises exception when not a 2xx response\n",
    "    \n",
    "    #     except:\n",
    "    #         response = requests.get(url+'&per-page=50&cursor='+cursor,headers=headers)\n",
    "    #         response.raise_for_status()  # raises exception when not a 2xx response\n",
    "    #     if response.status_code != 204:\n",
    "    # #                             res= response.json()                            \n",
    "    #         res = json.loads(response.content.decode(\"utf-8\"))\n",
    "    \n",
    "    #         if len(res['results'])>0:\n",
    "    #             works_.append(res)\n",
    "    # papers=[works['results'] for works in works_]\n",
    "    # papers=np.concatenate(papers)\n",
    "    # # with open(path_career+'works_'+insti_id+'.pkl', 'wb') as f:\n",
    "    # #     pickle.dump(papers, f) \n"
   ]
  },
  {
   "cell_type": "code",
   "execution_count": 39,
   "id": "b8870b72-11fa-4168-b1ad-ae312f576ced",
   "metadata": {},
   "outputs": [
    {
     "name": "stdout",
     "output_type": "stream",
     "text": [
      "dict_keys(['id', 'doi', 'title', 'display_name', 'publication_year', 'publication_date', 'ids', 'language', 'primary_location', 'type', 'type_crossref', 'indexed_in', 'open_access', 'authorships', 'countries_distinct_count', 'institutions_distinct_count', 'corresponding_author_ids', 'corresponding_institution_ids', 'apc_list', 'apc_paid', 'has_fulltext', 'cited_by_count', 'cited_by_percentile_year', 'biblio', 'is_retracted', 'is_paratext', 'primary_topic', 'topics', 'keywords', 'concepts', 'mesh', 'locations_count', 'locations', 'best_oa_location', 'sustainable_development_goals', 'grants', 'referenced_works_count', 'referenced_works', 'related_works', 'ngrams_url', 'abstract_inverted_index', 'cited_by_api_url', 'counts_by_year', 'updated_date', 'created_date'])\n",
      "Johann Braun\n"
     ]
    }
   ],
   "source": [
    "print(works_[1].keys())\n",
    "print(works_[0]['authorships'][1]['author']['display_name'])"
   ]
  },
  {
   "cell_type": "code",
   "execution_count": null,
   "id": "8555189b-882a-4160-8b06-c392a14b48f5",
   "metadata": {},
   "outputs": [],
   "source": []
  },
  {
   "cell_type": "code",
   "execution_count": 42,
   "id": "805fa041-86c0-40db-9510-4fb5da8cdb0b",
   "metadata": {},
   "outputs": [
    {
     "data": {
      "text/plain": [
       "(['Penicillin tolerance genes of <i>Streptococcus pneumoniae</i>: the ABC‐type manganese permease complex Psa',\n",
       "  'Identification of a <i>Streptococcus pneumoniae</i> Gene Locus Encoding Proteins of an ABC Phosphate Transporter and a Two-Component Regulatory System',\n",
       "  'Signal Transduction by a Death Signal Peptide',\n",
       "  'Extracellular targeting of choline‐binding proteins in <i>Streptococcus pneumoniae</i> by a zinc metalloprotease',\n",
       "  'Regulation of growth inhibition at high temperature, autolysis, transformation and adherence in <i>Streptococcus pneumoniae</i> by ClpC',\n",
       "  'The mystery of <i>psaA</i> and penicillin tolerance in <i>Streptococcus pneumoniae</i>'],\n",
       " [1998, 1999, 2000, 2000, 2000, 2000],\n",
       " [['Robert W. Novak',\n",
       "   'Johann Braun',\n",
       "   'Emmanuelle Charpentier',\n",
       "   'Elaine Tuomanen'],\n",
       "  ['Robert W. Novak',\n",
       "   'Anje Cauwels',\n",
       "   'Emmanuelle Charpentier',\n",
       "   'Elaine Tuomanen'],\n",
       "  ['Robert W. Novak',\n",
       "   'Emmanuelle Charpentier',\n",
       "   'Johann Braun',\n",
       "   'Elaine Tuomanen'],\n",
       "  ['Robert W. Novak',\n",
       "   'Emmanuelle Charpentier',\n",
       "   'Johann Braun',\n",
       "   'Eun Park',\n",
       "   'Surekha Murti',\n",
       "   'Elaine Tuomanen',\n",
       "   'Robert Masure'],\n",
       "  ['Emmanuelle Charpentier', 'Robert W. Novak', 'Elaine Tuomanen'],\n",
       "  ['Robert W. Novak', 'Elaine Tuomanen', 'Emmanuelle Charpentier']],\n",
       " [[\"St. Jude Children's Research Hospital\",\n",
       "   \"St. Jude Children's Research Hospital\",\n",
       "   \"St. Jude Children's Research Hospital\",\n",
       "   \"St. Jude Children's Research Hospital\"],\n",
       "  [\"St. Jude Children's Research Hospital\",\n",
       "   'University Hospital of Basel',\n",
       "   'Columbia University Irving Medical Center',\n",
       "   'New York University',\n",
       "   \"St. Jude Children's Research Hospital\"],\n",
       "  [\"St. Jude Children's Research Hospital\",\n",
       "   \"St. Jude Children's Research Hospital\",\n",
       "   \"St. Jude Children's Research Hospital\",\n",
       "   \"St. Jude Children's Research Hospital\"],\n",
       "  [\"St. Jude Children's Research Hospital\",\n",
       "   \"St. Jude Children's Research Hospital\",\n",
       "   \"St. Jude Children's Research Hospital\",\n",
       "   \"St. Jude Children's Research Hospital\",\n",
       "   \"St. Jude Children's Research Hospital\"],\n",
       "  [],\n",
       "  [\"St. Jude Children's Research Hospital\"]],\n",
       " [['US', 'US', 'US', 'US'],\n",
       "  ['US', 'CH', 'US', 'US', 'US'],\n",
       "  ['US', 'US', 'US', 'US'],\n",
       "  ['US', 'US', 'US', 'US', 'US'],\n",
       "  [],\n",
       "  ['US']])"
      ]
     },
     "execution_count": 42,
     "metadata": {},
     "output_type": "execute_result"
    }
   ],
   "source": [
    "def extract_paper_details(papers):\n",
    "    pubyears = []\n",
    "    institutions = []\n",
    "    countries = []\n",
    "    authors=[]\n",
    "    titles=[]\n",
    "    paper_authors=[]\n",
    "    for paper in papers:\n",
    "        # Extract publication year\n",
    "        pubyears.append(paper.get('publication_year', None))\n",
    "        titles.append(paper.get('title', None))\n",
    "\n",
    "        # Extract country codes and institutions\n",
    "        paper_countries = []\n",
    "        paper_institutions = []\n",
    "        auth=[]\n",
    "        ['authorships']\n",
    "        paper_authors.append([x['author']['display_name'] for x in paper['authorships']]       ) \n",
    "        for authorship in paper.get('authorships', []):\n",
    "          \n",
    "            for inst in authorship.get('institutions', []):\n",
    "                if 'country_code' in inst:\n",
    "                    paper_countries.append(inst['country_code'])\n",
    "                if 'display_name' in inst:\n",
    "                    paper_institutions.append(inst['display_name'])\n",
    "#         authors.append(paper_authors)\n",
    "        countries.append(paper_countries)\n",
    "        institutions.append(paper_institutions)\n",
    "\n",
    "    return titles,pubyears,paper_authors, institutions, countries\n",
    "\n",
    "\n",
    "# pubyears, institutions, countries = extract_paper_details(papers)\n",
    "\n",
    "# Now you have three lists: pubyears, institutions, and countries\n",
    "extract_paper_details(works_)"
   ]
  },
  {
   "cell_type": "code",
   "execution_count": 32,
   "id": "60eec18e-93de-46e3-aa5a-6feb831c7b04",
   "metadata": {},
   "outputs": [
    {
     "ename": "NameError",
     "evalue": "name 'auth' is not defined",
     "output_type": "error",
     "traceback": [
      "\u001b[1;31m---------------------------------------------------------------------------\u001b[0m",
      "\u001b[1;31mNameError\u001b[0m                                 Traceback (most recent call last)",
      "Cell \u001b[1;32mIn[32], line 1\u001b[0m\n\u001b[1;32m----> 1\u001b[0m \u001b[43mauth\u001b[49m[\u001b[38;5;124m'\u001b[39m\u001b[38;5;124mdisplay_name\u001b[39m\u001b[38;5;124m'\u001b[39m]\n",
      "\u001b[1;31mNameError\u001b[0m: name 'auth' is not defined"
     ]
    }
   ],
   "source": [
    "auth['display_name']"
   ]
  },
  {
   "cell_type": "code",
   "execution_count": null,
   "id": "20246480-fcc4-4520-8195-efbb7c9c2db0",
   "metadata": {},
   "outputs": [],
   "source": []
  },
  {
   "cell_type": "code",
   "execution_count": null,
   "id": "8840850a-b205-4e8b-b6be-c213919a98f0",
   "metadata": {},
   "outputs": [],
   "source": []
  },
  {
   "cell_type": "markdown",
   "id": "c6cc3495-75f4-468f-9e13-6304af37145f",
   "metadata": {},
   "source": [
    "# IISERs "
   ]
  },
  {
   "cell_type": "markdown",
   "id": "9b2ac965-5f67-4231-94b1-45ef5af8c367",
   "metadata": {},
   "source": [
    "https://api.openalex.org/institutions?search=indian%20institute%20of%20science%20education%20research"
   ]
  },
  {
   "cell_type": "markdown",
   "id": "5309a3ae-e00b-40b9-afb4-0423fe76f1c9",
   "metadata": {},
   "source": [
    "id: \"https://openalex.org/I181996519\",\n",
    "id: \"https://openalex.org/I127439422\",\n",
    "id: \"https://openalex.org/I165916956\",\n",
    "id: \"https://openalex.org/I288749910\",\n",
    "id: \"https://openalex.org/I4210140410\",\n",
    "id: \"https://openalex.org/I50557253\",\n",
    "id: \"https://openalex.org/I4210115612\",\n"
   ]
  },
  {
   "cell_type": "code",
   "execution_count": 24,
   "id": "400766c4-98b1-4c11-8aa1-c8cc3b593659",
   "metadata": {},
   "outputs": [
    {
     "data": {
      "text/plain": [
       "'https://api.openalex.org/works?filter=institutions.id:I181996519'"
      ]
     },
     "execution_count": 24,
     "metadata": {},
     "output_type": "execute_result"
    }
   ],
   "source": [
    "url"
   ]
  },
  {
   "cell_type": "code",
   "execution_count": 13,
   "id": "96ef55a2-3ea3-4fc2-af63-2c4cb0a63a29",
   "metadata": {},
   "outputs": [
    {
     "name": "stdout",
     "output_type": "stream",
     "text": [
      "1.061538461538461664\r"
     ]
    }
   ],
   "source": []
  }
 ],
 "metadata": {
  "kernelspec": {
   "display_name": "Python 3 (ipykernel)",
   "language": "python",
   "name": "python3"
  },
  "language_info": {
   "codemirror_mode": {
    "name": "ipython",
    "version": 3
   },
   "file_extension": ".py",
   "mimetype": "text/x-python",
   "name": "python",
   "nbconvert_exporter": "python",
   "pygments_lexer": "ipython3",
   "version": "3.8.17"
  }
 },
 "nbformat": 4,
 "nbformat_minor": 5
}
